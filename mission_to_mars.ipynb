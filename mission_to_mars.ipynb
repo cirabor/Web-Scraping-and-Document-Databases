{
 "cells": [
  {
   "cell_type": "code",
   "execution_count": 1,
   "metadata": {},
   "outputs": [],
   "source": [
    "from splinter import Browser\n",
    "from bs4 import BeautifulSoup as bs\n",
    "import time\n",
    "import pandas as pd \n",
    "import pymongo\n",
    "import urllib.request\n",
    "from urllib.request import urlopen\n",
    "import requests\n",
    "import shutil\n",
    "from pprint import pprint"
   ]
  },
  {
   "cell_type": "code",
   "execution_count": 2,
   "metadata": {},
   "outputs": [],
   "source": [
    "# Set executable path and initialize chrome browser in splinter\n",
    "def init_browser():\n",
    "    executable_path = {\"executable_path\":'C:\\ChromeSafe\\chromedriver.exe'}\n",
    "    return Browser(\"chrome\", **executable_path, headless=False)"
   ]
  },
  {
   "cell_type": "code",
   "execution_count": 3,
   "metadata": {},
   "outputs": [],
   "source": [
    "def scrape_info():\n",
    "    browser = init_browser()"
   ]
  },
  {
   "cell_type": "code",
   "execution_count": 4,
   "metadata": {},
   "outputs": [],
   "source": [
    "scrape_info()"
   ]
  },
  {
   "cell_type": "code",
   "execution_count": 5,
   "metadata": {},
   "outputs": [],
   "source": [
    "#Create empty dictionaries to store all the mars information.\n",
    "mars_info_dict=dict()"
   ]
  },
  {
   "cell_type": "code",
   "execution_count": 6,
   "metadata": {},
   "outputs": [],
   "source": [
    "executable_path = {'executable_path': 'C:\\ChromeSafe\\chromedriver.exe'}\n",
    "browser = Browser('chrome', **executable_path, headless=False)"
   ]
  },
  {
   "cell_type": "markdown",
   "metadata": {},
   "source": [
    "# Part 1 Visit the NASA mars news site"
   ]
  },
  {
   "cell_type": "code",
   "execution_count": 7,
   "metadata": {},
   "outputs": [],
   "source": [
    "# Visit NASA news Url\n",
    "url =\"https://mars.nasa.gov/news/\"\n",
    "browser.visit(url)"
   ]
  },
  {
   "cell_type": "code",
   "execution_count": 8,
   "metadata": {},
   "outputs": [],
   "source": [
    "html =browser.html\n",
    "soup = bs(html, 'html.parser')\n",
    "slide_elem = soup.select_one('ul.item_list li.slide')"
   ]
  },
  {
   "cell_type": "code",
   "execution_count": 10,
   "metadata": {},
   "outputs": [
    {
     "data": {
      "text/plain": [
       "<div class=\"content_title\"><a href=\"/news/8432/insight-captures-sunrise-and-sunset-on-mars/\" target=\"_self\">InSight Captures Sunrise and Sunset on Mars</a></div>"
      ]
     },
     "execution_count": 10,
     "metadata": {},
     "output_type": "execute_result"
    }
   ],
   "source": [
    "#slide_elem.find(\"div\", class_='content_title').text\n",
    "slide_elem.find(\"div\", class_='content_title')\n",
    "#news_title = article.find(\"div\", class_=\"content_title\").text"
   ]
  },
  {
   "cell_type": "code",
   "execution_count": 11,
   "metadata": {},
   "outputs": [
    {
     "data": {
      "text/plain": [
       "'May  1, 2019'"
      ]
     },
     "execution_count": 11,
     "metadata": {},
     "output_type": "execute_result"
    }
   ],
   "source": [
    "# use the parent element to find the date in the article\n",
    "news_date = slide_elem.find(\"div\", class_='list_date').get_text()\n",
    "news_date"
   ]
  },
  {
   "cell_type": "code",
   "execution_count": 12,
   "metadata": {},
   "outputs": [
    {
     "data": {
      "text/plain": [
       "'InSight Captures Sunrise and Sunset on Mars'"
      ]
     },
     "execution_count": 12,
     "metadata": {},
     "output_type": "execute_result"
    }
   ],
   "source": [
    "# use the parent element to find the first a tag and save it as news title\n",
    "news_title = slide_elem.find(\"div\", class_='content_title').get_text()\n",
    "news_title"
   ]
  },
  {
   "cell_type": "code",
   "execution_count": 13,
   "metadata": {},
   "outputs": [
    {
     "data": {
      "text/plain": [
       "\"InSight joins the rest of NASA's Red Planet surface missions, all of which have photographed either the start or end of a Martian day.\""
      ]
     },
     "execution_count": 13,
     "metadata": {},
     "output_type": "execute_result"
    }
   ],
   "source": [
    "# use the parent element to find the paragraph text\n",
    "news_p = slide_elem.find('div', class_=\"article_teaser_body\").get_text()\n",
    "news_p"
   ]
  },
  {
   "cell_type": "code",
   "execution_count": 14,
   "metadata": {},
   "outputs": [
    {
     "name": "stdout",
     "output_type": "stream",
     "text": [
      "{'Mars_news_body': \"InSight joins the rest of NASA's Red Planet surface \"\n",
      "                   'missions, all of which have photographed either the start '\n",
      "                   'or end of a Martian day.',\n",
      " 'Mars_news_date': 'May  1, 2019',\n",
      " 'Mars_news_title': 'InSight Captures Sunrise and Sunset on Mars'}\n"
     ]
    }
   ],
   "source": [
    "#Append results from part 1 into the final mars_info dictionary.\n",
    "mars_info_dict[\"Mars_news_date\"] = news_date\n",
    "mars_info_dict[\"Mars_news_title\"] = news_title\n",
    "mars_info_dict[\"Mars_news_body\"] = news_p\n",
    "pprint(mars_info_dict)"
   ]
  },
  {
   "cell_type": "markdown",
   "metadata": {},
   "source": [
    "# Part 2 JPL Space Images Featured Image"
   ]
  },
  {
   "cell_type": "code",
   "execution_count": 20,
   "metadata": {},
   "outputs": [],
   "source": [
    "# Visit the JPL Mars URL\n",
    "url2 = \"https://jpl.nasa.gov/spaceimages/?search=&category=Mars\"\n",
    "browser.visit(url2)"
   ]
  },
  {
   "cell_type": "code",
   "execution_count": 21,
   "metadata": {},
   "outputs": [],
   "source": [
    "html2 = browser.html\n",
    "soup2 = bs(html2, \"html.parser\")"
   ]
  },
  {
   "cell_type": "code",
   "execution_count": 22,
   "metadata": {},
   "outputs": [],
   "source": [
    "# Scrape the browser into soup and use soup to find the image of mars\n",
    "full_image_elem = browser.find_by_id('full_image')\n",
    "full_image_elem.click()\n",
    "# Save the image url to a variable called `img_url`\n"
   ]
  },
  {
   "cell_type": "code",
   "execution_count": 23,
   "metadata": {},
   "outputs": [],
   "source": [
    "# find the more info button and click\n",
    "browser.is_element_present_by_text('more info', wait_time=1)\n",
    "more_info_elem = browser.find_link_by_partial_text('more info')\n",
    "more_info_elem.click()"
   ]
  },
  {
   "cell_type": "code",
   "execution_count": 24,
   "metadata": {},
   "outputs": [],
   "source": [
    "# This will parse the resulting html with soup\n",
    "html2 = browser.html\n",
    "soup2 = bs(html2, \"html.parser\")"
   ]
  },
  {
   "cell_type": "code",
   "execution_count": 25,
   "metadata": {},
   "outputs": [
    {
     "name": "stdout",
     "output_type": "stream",
     "text": [
      "https://www.jpl.nasa.gov/spaceimages/images/largesize/PIA20318_hires.jpg\n"
     ]
    }
   ],
   "source": [
    "# find the relative image url\n",
    "#img_url_rel = soup2.select_one('figure.lede a img').get(\"src\")\n",
    "img_url_rel = soup2.find('figure', class_='lede').a['href']\n",
    "img_url_rel_url = \"https://www.jpl.nasa.gov\" + img_url_rel\n",
    "print(img_url_rel_url)"
   ]
  },
  {
   "cell_type": "code",
   "execution_count": 26,
   "metadata": {},
   "outputs": [],
   "source": [
    "# Use the base url to create an absolute url\n",
    "#img_url = f'https://www.jpl.nasa.gov{img_url_rel}'\n",
    "#img_url"
   ]
  },
  {
   "cell_type": "code",
   "execution_count": 27,
   "metadata": {},
   "outputs": [],
   "source": [
    "#Append featured image url to the Mars dictionary.\n",
    "mars_info_dict[\"Mars_featured_image_url\"] = img_url_rel_url"
   ]
  },
  {
   "cell_type": "code",
   "execution_count": 28,
   "metadata": {},
   "outputs": [
    {
     "name": "stdout",
     "output_type": "stream",
     "text": [
      "{'Mars_featured_image_url': 'https://www.jpl.nasa.gov/spaceimages/images/largesize/PIA20318_hires.jpg',\n",
      " 'Mars_news_body': \"InSight joins the rest of NASA's Red Planet surface \"\n",
      "                   'missions, all of which have photographed either the start '\n",
      "                   'or end of a Martian day.',\n",
      " 'Mars_news_date': 'May  1, 2019',\n",
      " 'Mars_news_title': 'InSight Captures Sunrise and Sunset on Mars'}\n"
     ]
    }
   ],
   "source": [
    "pprint(mars_info_dict)"
   ]
  },
  {
   "cell_type": "markdown",
   "metadata": {},
   "source": [
    "# 3 Visit the Mars Weather twitter account"
   ]
  },
  {
   "cell_type": "code",
   "execution_count": 29,
   "metadata": {},
   "outputs": [],
   "source": [
    "url3 = \"https://twitter.com/marswxreport?lang=en\"\n",
    "browser.visit(url3)"
   ]
  },
  {
   "cell_type": "code",
   "execution_count": 30,
   "metadata": {},
   "outputs": [],
   "source": [
    "html3 = browser.html\n",
    "soup3 = bs(html3, \"html.parser\")"
   ]
  },
  {
   "cell_type": "code",
   "execution_count": 31,
   "metadata": {},
   "outputs": [
    {
     "data": {
      "text/plain": [
       "'InSight sol 152 (2019-05-01) low -98.1ºC (-144.5ºF) high -17.2ºC (1.0ºF)\\nwinds from the SW at 4.8 m/s (10.7 mph) gusting to 13.2 m/s (29.5 mph)\\npressure at 7.40 hPapic.twitter.com/zJGo11uNF1'"
      ]
     },
     "execution_count": 31,
     "metadata": {},
     "output_type": "execute_result"
    }
   ],
   "source": [
    "# find tweet with data name for mars weather\n",
    "mars_weather = soup3.find('p', class_=\"TweetTextSize TweetTextSize--normal js-tweet-text tweet-text\").text\n",
    "mars_weather"
   ]
  },
  {
   "cell_type": "code",
   "execution_count": 32,
   "metadata": {},
   "outputs": [],
   "source": [
    "#Add weather tweet to the mars_info dict.\n",
    "mars_info_dict[\"Mars_tweet_weather\"] = mars_weather"
   ]
  },
  {
   "cell_type": "code",
   "execution_count": 33,
   "metadata": {},
   "outputs": [
    {
     "name": "stdout",
     "output_type": "stream",
     "text": [
      "{'Mars_featured_image_url': 'https://www.jpl.nasa.gov/spaceimages/images/largesize/PIA20318_hires.jpg',\n",
      " 'Mars_news_body': \"InSight joins the rest of NASA's Red Planet surface \"\n",
      "                   'missions, all of which have photographed either the start '\n",
      "                   'or end of a Martian day.',\n",
      " 'Mars_news_date': 'May  1, 2019',\n",
      " 'Mars_news_title': 'InSight Captures Sunrise and Sunset on Mars',\n",
      " 'Mars_tweet_weather': 'InSight sol 152 (2019-05-01) low -98.1ºC (-144.5ºF) '\n",
      "                       'high -17.2ºC (1.0ºF)\\n'\n",
      "                       'winds from the SW at 4.8 m/s (10.7 mph) gusting to '\n",
      "                       '13.2 m/s (29.5 mph)\\n'\n",
      "                       'pressure at 7.40 hPapic.twitter.com/zJGo11uNF1'}\n"
     ]
    }
   ],
   "source": [
    "pprint(mars_info_dict)"
   ]
  },
  {
   "cell_type": "markdown",
   "metadata": {},
   "source": [
    "# 4 Mars Facts"
   ]
  },
  {
   "cell_type": "code",
   "execution_count": 34,
   "metadata": {},
   "outputs": [
    {
     "data": {
      "text/html": [
       "<div>\n",
       "<style scoped>\n",
       "    .dataframe tbody tr th:only-of-type {\n",
       "        vertical-align: middle;\n",
       "    }\n",
       "\n",
       "    .dataframe tbody tr th {\n",
       "        vertical-align: top;\n",
       "    }\n",
       "\n",
       "    .dataframe thead th {\n",
       "        text-align: right;\n",
       "    }\n",
       "</style>\n",
       "<table border=\"1\" class=\"dataframe\">\n",
       "  <thead>\n",
       "    <tr style=\"text-align: right;\">\n",
       "      <th></th>\n",
       "      <th>value</th>\n",
       "    </tr>\n",
       "    <tr>\n",
       "      <th>description</th>\n",
       "      <th></th>\n",
       "    </tr>\n",
       "  </thead>\n",
       "  <tbody>\n",
       "    <tr>\n",
       "      <th>Equatorial Diameter:</th>\n",
       "      <td>6,792 km</td>\n",
       "    </tr>\n",
       "    <tr>\n",
       "      <th>Polar Diameter:</th>\n",
       "      <td>6,752 km</td>\n",
       "    </tr>\n",
       "    <tr>\n",
       "      <th>Mass:</th>\n",
       "      <td>6.42 x 10^23 kg (10.7% Earth)</td>\n",
       "    </tr>\n",
       "    <tr>\n",
       "      <th>Moons:</th>\n",
       "      <td>2 (Phobos &amp; Deimos)</td>\n",
       "    </tr>\n",
       "    <tr>\n",
       "      <th>Orbit Distance:</th>\n",
       "      <td>227,943,824 km (1.52 AU)</td>\n",
       "    </tr>\n",
       "    <tr>\n",
       "      <th>Orbit Period:</th>\n",
       "      <td>687 days (1.9 years)</td>\n",
       "    </tr>\n",
       "    <tr>\n",
       "      <th>Surface Temperature:</th>\n",
       "      <td>-153 to 20 °C</td>\n",
       "    </tr>\n",
       "    <tr>\n",
       "      <th>First Record:</th>\n",
       "      <td>2nd millennium BC</td>\n",
       "    </tr>\n",
       "    <tr>\n",
       "      <th>Recorded By:</th>\n",
       "      <td>Egyptian astronomers</td>\n",
       "    </tr>\n",
       "  </tbody>\n",
       "</table>\n",
       "</div>"
      ],
      "text/plain": [
       "                                              value\n",
       "description                                        \n",
       "Equatorial Diameter:                       6,792 km\n",
       "Polar Diameter:                            6,752 km\n",
       "Mass:                 6.42 x 10^23 kg (10.7% Earth)\n",
       "Moons:                          2 (Phobos & Deimos)\n",
       "Orbit Distance:            227,943,824 km (1.52 AU)\n",
       "Orbit Period:                  687 days (1.9 years)\n",
       "Surface Temperature:                  -153 to 20 °C\n",
       "First Record:                     2nd millennium BC\n",
       "Recorded By:                   Egyptian astronomers"
      ]
     },
     "execution_count": 34,
     "metadata": {},
     "output_type": "execute_result"
    }
   ],
   "source": [
    "df = pd.read_html('https://space-facts.com/mars/')[0]\n",
    "df.columns=['description', 'value']\n",
    "df.set_index('description', inplace=True)\n",
    "df"
   ]
  },
  {
   "cell_type": "code",
   "execution_count": 35,
   "metadata": {},
   "outputs": [],
   "source": [
    "df.to_html(\"mars_facts.html\", index=False)"
   ]
  },
  {
   "cell_type": "code",
   "execution_count": 36,
   "metadata": {},
   "outputs": [],
   "source": [
    "# Provide column names for the dataframe. \n",
    "#df.columns = ['Mars_Facts', 'Values']\n",
    "\n",
    "#Use Pandas to convert the data to a HTML table string.\n",
    "df.to_html(\"mars_facts.html\", index=False)\n",
    "\n",
    "#set index for better retrieval. \n",
    "#df.set_index(\"Mars_Facts\")\n",
    "mars_facts_html = df.to_html(classes=\"description table table-striped\")"
   ]
  },
  {
   "cell_type": "code",
   "execution_count": 37,
   "metadata": {},
   "outputs": [],
   "source": [
    "mars_info_dict[\"Mars_facts_table\"] = mars_facts_html"
   ]
  },
  {
   "cell_type": "code",
   "execution_count": 38,
   "metadata": {
    "scrolled": true
   },
   "outputs": [
    {
     "name": "stdout",
     "output_type": "stream",
     "text": [
      "{'Mars_facts_table': '<table border=\"1\" class=\"dataframe description table '\n",
      "                     'table-striped\">\\n'\n",
      "                     '  <thead>\\n'\n",
      "                     '    <tr style=\"text-align: right;\">\\n'\n",
      "                     '      <th></th>\\n'\n",
      "                     '      <th>value</th>\\n'\n",
      "                     '    </tr>\\n'\n",
      "                     '    <tr>\\n'\n",
      "                     '      <th>description</th>\\n'\n",
      "                     '      <th></th>\\n'\n",
      "                     '    </tr>\\n'\n",
      "                     '  </thead>\\n'\n",
      "                     '  <tbody>\\n'\n",
      "                     '    <tr>\\n'\n",
      "                     '      <th>Equatorial Diameter:</th>\\n'\n",
      "                     '      <td>6,792 km</td>\\n'\n",
      "                     '    </tr>\\n'\n",
      "                     '    <tr>\\n'\n",
      "                     '      <th>Polar Diameter:</th>\\n'\n",
      "                     '      <td>6,752 km</td>\\n'\n",
      "                     '    </tr>\\n'\n",
      "                     '    <tr>\\n'\n",
      "                     '      <th>Mass:</th>\\n'\n",
      "                     '      <td>6.42 x 10^23 kg (10.7% Earth)</td>\\n'\n",
      "                     '    </tr>\\n'\n",
      "                     '    <tr>\\n'\n",
      "                     '      <th>Moons:</th>\\n'\n",
      "                     '      <td>2 (Phobos &amp; Deimos)</td>\\n'\n",
      "                     '    </tr>\\n'\n",
      "                     '    <tr>\\n'\n",
      "                     '      <th>Orbit Distance:</th>\\n'\n",
      "                     '      <td>227,943,824 km (1.52 AU)</td>\\n'\n",
      "                     '    </tr>\\n'\n",
      "                     '    <tr>\\n'\n",
      "                     '      <th>Orbit Period:</th>\\n'\n",
      "                     '      <td>687 days (1.9 years)</td>\\n'\n",
      "                     '    </tr>\\n'\n",
      "                     '    <tr>\\n'\n",
      "                     '      <th>Surface Temperature:</th>\\n'\n",
      "                     '      <td>-153 to 20 °C</td>\\n'\n",
      "                     '    </tr>\\n'\n",
      "                     '    <tr>\\n'\n",
      "                     '      <th>First Record:</th>\\n'\n",
      "                     '      <td>2nd millennium BC</td>\\n'\n",
      "                     '    </tr>\\n'\n",
      "                     '    <tr>\\n'\n",
      "                     '      <th>Recorded By:</th>\\n'\n",
      "                     '      <td>Egyptian astronomers</td>\\n'\n",
      "                     '    </tr>\\n'\n",
      "                     '  </tbody>\\n'\n",
      "                     '</table>',\n",
      " 'Mars_featured_image_url': 'https://www.jpl.nasa.gov/spaceimages/images/largesize/PIA20318_hires.jpg',\n",
      " 'Mars_news_body': \"InSight joins the rest of NASA's Red Planet surface \"\n",
      "                   'missions, all of which have photographed either the start '\n",
      "                   'or end of a Martian day.',\n",
      " 'Mars_news_date': 'May  1, 2019',\n",
      " 'Mars_news_title': 'InSight Captures Sunrise and Sunset on Mars',\n",
      " 'Mars_tweet_weather': 'InSight sol 152 (2019-05-01) low -98.1ºC (-144.5ºF) '\n",
      "                       'high -17.2ºC (1.0ºF)\\n'\n",
      "                       'winds from the SW at 4.8 m/s (10.7 mph) gusting to '\n",
      "                       '13.2 m/s (29.5 mph)\\n'\n",
      "                       'pressure at 7.40 hPapic.twitter.com/zJGo11uNF1'}\n"
     ]
    }
   ],
   "source": [
    "pprint(mars_info_dict)"
   ]
  },
  {
   "cell_type": "markdown",
   "metadata": {},
   "source": [
    "# 5 Visit the USGS Astogeology site and scrape pictures of the hemispheres"
   ]
  },
  {
   "cell_type": "code",
   "execution_count": 59,
   "metadata": {},
   "outputs": [],
   "source": [
    "import datetime"
   ]
  },
  {
   "cell_type": "code",
   "execution_count": 48,
   "metadata": {},
   "outputs": [],
   "source": [
    "url5 =  \"https://astrogeology.usgs.gov/search/results?q=hemisphere+enhanced&k1=target&v1=Mars/\"\n",
    "browser.visit(url5)"
   ]
  },
  {
   "cell_type": "code",
   "execution_count": 49,
   "metadata": {},
   "outputs": [],
   "source": [
    "time.sleep(10)\n",
    "html5 = browser.html\n",
    "soup5 = bs(html5, \"html.parser\")"
   ]
  },
  {
   "cell_type": "code",
   "execution_count": 50,
   "metadata": {},
   "outputs": [],
   "source": [
    "#parse soup object for images of the 4 hemispheres .\n",
    "class_collap_results = soup5.find('div', class_=\"collapsible results\")\n",
    "astro_hemis_items = class_collap_results.find_all('div',class_='item')\n"
   ]
  },
  {
   "cell_type": "code",
   "execution_count": 51,
   "metadata": {},
   "outputs": [
    {
     "data": {
      "text/plain": [
       "[<div class=\"item\"><a class=\"itemLink product-item\" href=\"/search/map/Mars/Viking/cerberus_enhanced\"><img alt=\"Cerberus Hemisphere Enhanced thumbnail\" class=\"thumb\" src=\"/cache/images/dfaf3849e74bf973b59eb50dab52b583_cerberus_enhanced.tif_thumb.png\"/></a><div class=\"description\"><a class=\"itemLink product-item\" href=\"/search/map/Mars/Viking/cerberus_enhanced\"><h3>Cerberus Hemisphere Enhanced</h3></a><span class=\"subtitle\" style=\"float:left\">image/tiff 21 MB</span><span class=\"pubDate\" style=\"float:right\"></span><br/><p>Mosaic of the Cerberus hemisphere of Mars projected into point perspective, a view similar to that which one would see from a spacecraft. This mosaic is composed of 104 Viking Orbiter images acquired…</p></div> <!-- end description --></div>,\n",
       " <div class=\"item\"><a class=\"itemLink product-item\" href=\"/search/map/Mars/Viking/schiaparelli_enhanced\"><img alt=\"Schiaparelli Hemisphere Enhanced thumbnail\" class=\"thumb\" src=\"/cache/images/7677c0a006b83871b5a2f66985ab5857_schiaparelli_enhanced.tif_thumb.png\"/></a><div class=\"description\"><a class=\"itemLink product-item\" href=\"/search/map/Mars/Viking/schiaparelli_enhanced\"><h3>Schiaparelli Hemisphere Enhanced</h3></a><span class=\"subtitle\" style=\"float:left\">image/tiff 35 MB</span><span class=\"pubDate\" style=\"float:right\"></span><br/><p>Mosaic of the Schiaparelli hemisphere of Mars projected into point perspective, a view similar to that which one would see from a spacecraft. The images were acquired in 1980 during early northern…</p></div> <!-- end description --></div>,\n",
       " <div class=\"item\"><a class=\"itemLink product-item\" href=\"/search/map/Mars/Viking/syrtis_major_enhanced\"><img alt=\"Syrtis Major Hemisphere Enhanced thumbnail\" class=\"thumb\" src=\"/cache/images/aae41197e40d6d4f3ea557f8cfe51d15_syrtis_major_enhanced.tif_thumb.png\"/></a><div class=\"description\"><a class=\"itemLink product-item\" href=\"/search/map/Mars/Viking/syrtis_major_enhanced\"><h3>Syrtis Major Hemisphere Enhanced</h3></a><span class=\"subtitle\" style=\"float:left\">image/tiff 25 MB</span><span class=\"pubDate\" style=\"float:right\"></span><br/><p>Mosaic of the Syrtis Major hemisphere of Mars projected into point perspective, a view similar to that which one would see from a spacecraft. This mosaic is composed of about 100 red and violet…</p></div> <!-- end description --></div>,\n",
       " <div class=\"item\"><a class=\"itemLink product-item\" href=\"/search/map/Mars/Viking/valles_marineris_enhanced\"><img alt=\"Valles Marineris Hemisphere Enhanced thumbnail\" class=\"thumb\" src=\"/cache/images/04085d99ec3713883a9a57f42be9c725_valles_marineris_enhanced.tif_thumb.png\"/></a><div class=\"description\"><a class=\"itemLink product-item\" href=\"/search/map/Mars/Viking/valles_marineris_enhanced\"><h3>Valles Marineris Hemisphere Enhanced</h3></a><span class=\"subtitle\" style=\"float:left\">image/tiff 27 MB</span><span class=\"pubDate\" style=\"float:right\"></span><br/><p>Mosaic of the Valles Marineris hemisphere of Mars projected into point perspective, a view similar to that which one would see from a spacecraft. The distance is 2500 kilometers from the surface of…</p></div> <!-- end description --></div>]"
      ]
     },
     "execution_count": 51,
     "metadata": {},
     "output_type": "execute_result"
    }
   ],
   "source": [
    "astro_hemis_items"
   ]
  },
  {
   "cell_type": "code",
   "execution_count": 55,
   "metadata": {},
   "outputs": [
    {
     "name": "stdout",
     "output_type": "stream",
     "text": [
      "Cerberus Hemisphere Enhanced https://astrogeology.usgs.gov/search/map/Mars/Viking/cerberus_enhanced\n",
      "i_img_urlhttp://astropedia.astrogeology.usgs.gov/download/Mars/Viking/cerberus_enhanced.tif/full.jpg\n",
      "Schiaparelli Hemisphere Enhanced https://astrogeology.usgs.gov/search/map/Mars/Viking/schiaparelli_enhanced\n",
      "i_img_urlhttp://astropedia.astrogeology.usgs.gov/download/Mars/Viking/schiaparelli_enhanced.tif/full.jpg\n",
      "Syrtis Major Hemisphere Enhanced https://astrogeology.usgs.gov/search/map/Mars/Viking/syrtis_major_enhanced\n",
      "i_img_urlhttp://astropedia.astrogeology.usgs.gov/download/Mars/Viking/syrtis_major_enhanced.tif/full.jpg\n",
      "Valles Marineris Hemisphere Enhanced https://astrogeology.usgs.gov/search/map/Mars/Viking/valles_marineris_enhanced\n",
      "i_img_urlhttp://astropedia.astrogeology.usgs.gov/download/Mars/Viking/valles_marineris_enhanced.tif/full.jpg\n",
      "[{'title': 'Cerberus Hemisphere Enhanced', 'img_url': 'http://astropedia.astrogeology.usgs.gov/download/Mars/Viking/cerberus_enhanced.tif/full.jpg'}, {'title': 'Schiaparelli Hemisphere Enhanced', 'img_url': 'http://astropedia.astrogeology.usgs.gov/download/Mars/Viking/schiaparelli_enhanced.tif/full.jpg'}, {'title': 'Syrtis Major Hemisphere Enhanced', 'img_url': 'http://astropedia.astrogeology.usgs.gov/download/Mars/Viking/syrtis_major_enhanced.tif/full.jpg'}, {'title': 'Valles Marineris Hemisphere Enhanced', 'img_url': 'http://astropedia.astrogeology.usgs.gov/download/Mars/Viking/valles_marineris_enhanced.tif/full.jpg'}]\n",
      "['Cerberus Hemisphere Enhanced', 'Schiaparelli Hemisphere Enhanced', 'Syrtis Major Hemisphere Enhanced', 'Valles Marineris Hemisphere Enhanced']\n",
      "['http://astropedia.astrogeology.usgs.gov/download/Mars/Viking/cerberus_enhanced.tif/full.jpg', 'http://astropedia.astrogeology.usgs.gov/download/Mars/Viking/schiaparelli_enhanced.tif/full.jpg', 'http://astropedia.astrogeology.usgs.gov/download/Mars/Viking/syrtis_major_enhanced.tif/full.jpg', 'http://astropedia.astrogeology.usgs.gov/download/Mars/Viking/valles_marineris_enhanced.tif/full.jpg']\n"
     ]
    }
   ],
   "source": [
    "# get the list of all the hemispheres\n",
    "hemis_img_urls_list=list()\n",
    "img_urls_list = list()\n",
    "title_list = list()\n",
    "\n",
    "# Next loop through the links\n",
    "for i in astro_hemis_items:\n",
    "    i_title = i.h3.text\n",
    "    title_list.append(i_title)\n",
    "    \n",
    "    # find the href link.\n",
    "    i_href  = \"https://astrogeology.usgs.gov\" + i.find('a',class_='itemLink product-item')['href']\n",
    "    \n",
    "    print(i_title,i_href)\n",
    "    \n",
    "    #browse the link from each page\n",
    "    browser.visit(i_href)\n",
    "    time.sleep(5)\n",
    "    \n",
    "    #Retrieve the  image links and store in a list. \n",
    "    html5   = browser.html\n",
    "    soup_img = bs(html5, 'html.parser')\n",
    "    i_img_url = soup_img.find('div', class_='downloads').find('li').a['href']\n",
    "    print(\"i_img_url\" + i_img_url)\n",
    "    img_urls_list.append(i_img_url)\n",
    "    \n",
    "    # create a dictionary with  each image and title and append to a list. \n",
    "    hemispheres_dict = dict()\n",
    "    hemispheres_dict['title'] = i_title\n",
    "    hemispheres_dict['img_url'] = i_img_url\n",
    "    \n",
    "    hemis_img_urls_list.append(hemispheres_dict)\n",
    "    \n",
    "print(hemis_img_urls_list)\n",
    "print(title_list)\n",
    "print(img_urls_list)\n",
    "    \n",
    "    # finding the elements on each loop\n",
    "    #browser.find_by_css(\"a.product-item h3\")[i].click()\n",
    "    \n",
    "    # Next find the sample  image anchor tag and extract the href\n",
    "    #sample_elem = browser.find_link_by_text('sample').first\n",
    "    #asto_hemis['img_url'] = sample_elem['href']\n",
    "    \n",
    "    # Get hemisphere title\n",
    "    #asto_hemis['title'] = browser.find_by_css('h2.title').text\n",
    "    \n",
    "    # Append hemisphere object to list\n",
    "    #hemis_image_urls.append(asto_hemis)\n",
    "    \n",
    "    # Navigate back\n",
    "#browser.back()"
   ]
  },
  {
   "cell_type": "code",
   "execution_count": 56,
   "metadata": {},
   "outputs": [],
   "source": [
    "#Add hemispheres list  to the mars_info dictionary.\n",
    "mars_info_dict[\"Hemisphere_image_urls\"] = hemis_img_urls_list"
   ]
  },
  {
   "cell_type": "code",
   "execution_count": 57,
   "metadata": {},
   "outputs": [
    {
     "name": "stdout",
     "output_type": "stream",
     "text": [
      "{'Hemisphere_image_urls': [{'img_url': 'http://astropedia.astrogeology.usgs.gov/download/Mars/Viking/cerberus_enhanced.tif/full.jpg',\n",
      "                            'title': 'Cerberus Hemisphere Enhanced'},\n",
      "                           {'img_url': 'http://astropedia.astrogeology.usgs.gov/download/Mars/Viking/schiaparelli_enhanced.tif/full.jpg',\n",
      "                            'title': 'Schiaparelli Hemisphere Enhanced'},\n",
      "                           {'img_url': 'http://astropedia.astrogeology.usgs.gov/download/Mars/Viking/syrtis_major_enhanced.tif/full.jpg',\n",
      "                            'title': 'Syrtis Major Hemisphere Enhanced'},\n",
      "                           {'img_url': 'http://astropedia.astrogeology.usgs.gov/download/Mars/Viking/valles_marineris_enhanced.tif/full.jpg',\n",
      "                            'title': 'Valles Marineris Hemisphere Enhanced'}],\n",
      " 'Mars_facts_table': '<table border=\"1\" class=\"dataframe description table '\n",
      "                     'table-striped\">\\n'\n",
      "                     '  <thead>\\n'\n",
      "                     '    <tr style=\"text-align: right;\">\\n'\n",
      "                     '      <th></th>\\n'\n",
      "                     '      <th>value</th>\\n'\n",
      "                     '    </tr>\\n'\n",
      "                     '    <tr>\\n'\n",
      "                     '      <th>description</th>\\n'\n",
      "                     '      <th></th>\\n'\n",
      "                     '    </tr>\\n'\n",
      "                     '  </thead>\\n'\n",
      "                     '  <tbody>\\n'\n",
      "                     '    <tr>\\n'\n",
      "                     '      <th>Equatorial Diameter:</th>\\n'\n",
      "                     '      <td>6,792 km</td>\\n'\n",
      "                     '    </tr>\\n'\n",
      "                     '    <tr>\\n'\n",
      "                     '      <th>Polar Diameter:</th>\\n'\n",
      "                     '      <td>6,752 km</td>\\n'\n",
      "                     '    </tr>\\n'\n",
      "                     '    <tr>\\n'\n",
      "                     '      <th>Mass:</th>\\n'\n",
      "                     '      <td>6.42 x 10^23 kg (10.7% Earth)</td>\\n'\n",
      "                     '    </tr>\\n'\n",
      "                     '    <tr>\\n'\n",
      "                     '      <th>Moons:</th>\\n'\n",
      "                     '      <td>2 (Phobos &amp; Deimos)</td>\\n'\n",
      "                     '    </tr>\\n'\n",
      "                     '    <tr>\\n'\n",
      "                     '      <th>Orbit Distance:</th>\\n'\n",
      "                     '      <td>227,943,824 km (1.52 AU)</td>\\n'\n",
      "                     '    </tr>\\n'\n",
      "                     '    <tr>\\n'\n",
      "                     '      <th>Orbit Period:</th>\\n'\n",
      "                     '      <td>687 days (1.9 years)</td>\\n'\n",
      "                     '    </tr>\\n'\n",
      "                     '    <tr>\\n'\n",
      "                     '      <th>Surface Temperature:</th>\\n'\n",
      "                     '      <td>-153 to 20 °C</td>\\n'\n",
      "                     '    </tr>\\n'\n",
      "                     '    <tr>\\n'\n",
      "                     '      <th>First Record:</th>\\n'\n",
      "                     '      <td>2nd millennium BC</td>\\n'\n",
      "                     '    </tr>\\n'\n",
      "                     '    <tr>\\n'\n",
      "                     '      <th>Recorded By:</th>\\n'\n",
      "                     '      <td>Egyptian astronomers</td>\\n'\n",
      "                     '    </tr>\\n'\n",
      "                     '  </tbody>\\n'\n",
      "                     '</table>',\n",
      " 'Mars_featured_image_url': 'https://www.jpl.nasa.gov/spaceimages/images/largesize/PIA20318_hires.jpg',\n",
      " 'Mars_news_body': \"InSight joins the rest of NASA's Red Planet surface \"\n",
      "                   'missions, all of which have photographed either the start '\n",
      "                   'or end of a Martian day.',\n",
      " 'Mars_news_date': 'May  1, 2019',\n",
      " 'Mars_news_title': 'InSight Captures Sunrise and Sunset on Mars',\n",
      " 'Mars_tweet_weather': 'InSight sol 152 (2019-05-01) low -98.1ºC (-144.5ºF) '\n",
      "                       'high -17.2ºC (1.0ºF)\\n'\n",
      "                       'winds from the SW at 4.8 m/s (10.7 mph) gusting to '\n",
      "                       '13.2 m/s (29.5 mph)\\n'\n",
      "                       'pressure at 7.40 hPapic.twitter.com/zJGo11uNF1'}\n"
     ]
    }
   ],
   "source": [
    "pprint(mars_info_dict)"
   ]
  },
  {
   "cell_type": "code",
   "execution_count": 60,
   "metadata": {},
   "outputs": [],
   "source": [
    "#retrieve article date and time and store it in the dictionary.\n",
    "art_datetime = datetime.datetime.utcnow()\n",
    "mars_info_dict[\"Date_time\"] = art_datetime"
   ]
  },
  {
   "cell_type": "code",
   "execution_count": 61,
   "metadata": {},
   "outputs": [
    {
     "name": "stdout",
     "output_type": "stream",
     "text": [
      "{'Date_time': datetime.datetime(2019, 5, 3, 17, 14, 20, 345487),\n",
      " 'Hemisphere_image_urls': [{'img_url': 'http://astropedia.astrogeology.usgs.gov/download/Mars/Viking/cerberus_enhanced.tif/full.jpg',\n",
      "                            'title': 'Cerberus Hemisphere Enhanced'},\n",
      "                           {'img_url': 'http://astropedia.astrogeology.usgs.gov/download/Mars/Viking/schiaparelli_enhanced.tif/full.jpg',\n",
      "                            'title': 'Schiaparelli Hemisphere Enhanced'},\n",
      "                           {'img_url': 'http://astropedia.astrogeology.usgs.gov/download/Mars/Viking/syrtis_major_enhanced.tif/full.jpg',\n",
      "                            'title': 'Syrtis Major Hemisphere Enhanced'},\n",
      "                           {'img_url': 'http://astropedia.astrogeology.usgs.gov/download/Mars/Viking/valles_marineris_enhanced.tif/full.jpg',\n",
      "                            'title': 'Valles Marineris Hemisphere Enhanced'}],\n",
      " 'Mars_facts_table': '<table border=\"1\" class=\"dataframe description table '\n",
      "                     'table-striped\">\\n'\n",
      "                     '  <thead>\\n'\n",
      "                     '    <tr style=\"text-align: right;\">\\n'\n",
      "                     '      <th></th>\\n'\n",
      "                     '      <th>value</th>\\n'\n",
      "                     '    </tr>\\n'\n",
      "                     '    <tr>\\n'\n",
      "                     '      <th>description</th>\\n'\n",
      "                     '      <th></th>\\n'\n",
      "                     '    </tr>\\n'\n",
      "                     '  </thead>\\n'\n",
      "                     '  <tbody>\\n'\n",
      "                     '    <tr>\\n'\n",
      "                     '      <th>Equatorial Diameter:</th>\\n'\n",
      "                     '      <td>6,792 km</td>\\n'\n",
      "                     '    </tr>\\n'\n",
      "                     '    <tr>\\n'\n",
      "                     '      <th>Polar Diameter:</th>\\n'\n",
      "                     '      <td>6,752 km</td>\\n'\n",
      "                     '    </tr>\\n'\n",
      "                     '    <tr>\\n'\n",
      "                     '      <th>Mass:</th>\\n'\n",
      "                     '      <td>6.42 x 10^23 kg (10.7% Earth)</td>\\n'\n",
      "                     '    </tr>\\n'\n",
      "                     '    <tr>\\n'\n",
      "                     '      <th>Moons:</th>\\n'\n",
      "                     '      <td>2 (Phobos &amp; Deimos)</td>\\n'\n",
      "                     '    </tr>\\n'\n",
      "                     '    <tr>\\n'\n",
      "                     '      <th>Orbit Distance:</th>\\n'\n",
      "                     '      <td>227,943,824 km (1.52 AU)</td>\\n'\n",
      "                     '    </tr>\\n'\n",
      "                     '    <tr>\\n'\n",
      "                     '      <th>Orbit Period:</th>\\n'\n",
      "                     '      <td>687 days (1.9 years)</td>\\n'\n",
      "                     '    </tr>\\n'\n",
      "                     '    <tr>\\n'\n",
      "                     '      <th>Surface Temperature:</th>\\n'\n",
      "                     '      <td>-153 to 20 °C</td>\\n'\n",
      "                     '    </tr>\\n'\n",
      "                     '    <tr>\\n'\n",
      "                     '      <th>First Record:</th>\\n'\n",
      "                     '      <td>2nd millennium BC</td>\\n'\n",
      "                     '    </tr>\\n'\n",
      "                     '    <tr>\\n'\n",
      "                     '      <th>Recorded By:</th>\\n'\n",
      "                     '      <td>Egyptian astronomers</td>\\n'\n",
      "                     '    </tr>\\n'\n",
      "                     '  </tbody>\\n'\n",
      "                     '</table>',\n",
      " 'Mars_featured_image_url': 'https://www.jpl.nasa.gov/spaceimages/images/largesize/PIA20318_hires.jpg',\n",
      " 'Mars_news_body': \"InSight joins the rest of NASA's Red Planet surface \"\n",
      "                   'missions, all of which have photographed either the start '\n",
      "                   'or end of a Martian day.',\n",
      " 'Mars_news_date': 'May  1, 2019',\n",
      " 'Mars_news_title': 'InSight Captures Sunrise and Sunset on Mars',\n",
      " 'Mars_tweet_weather': 'InSight sol 152 (2019-05-01) low -98.1ºC (-144.5ºF) '\n",
      "                       'high -17.2ºC (1.0ºF)\\n'\n",
      "                       'winds from the SW at 4.8 m/s (10.7 mph) gusting to '\n",
      "                       '13.2 m/s (29.5 mph)\\n'\n",
      "                       'pressure at 7.40 hPapic.twitter.com/zJGo11uNF1'}\n"
     ]
    }
   ],
   "source": [
    "pprint(mars_info_dict)"
   ]
  },
  {
   "cell_type": "code",
   "execution_count": null,
   "metadata": {},
   "outputs": [],
   "source": []
  }
 ],
 "metadata": {
  "kernelspec": {
   "display_name": "Python 3",
   "language": "python",
   "name": "python3"
  },
  "language_info": {
   "codemirror_mode": {
    "name": "ipython",
    "version": 3
   },
   "file_extension": ".py",
   "mimetype": "text/x-python",
   "name": "python",
   "nbconvert_exporter": "python",
   "pygments_lexer": "ipython3",
   "version": "3.7.1"
  }
 },
 "nbformat": 4,
 "nbformat_minor": 2
}
